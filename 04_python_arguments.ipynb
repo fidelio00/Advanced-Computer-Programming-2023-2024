{
 "cells": [
  {
   "cell_type": "code",
   "execution_count": 1,
   "metadata": {},
   "outputs": [
    {
     "name": "stdout",
     "output_type": "stream",
     "text": [
      "x= 7 ref_x= 140706888698488\n",
      "y= 10 ref_y= 140706888698584\n"
     ]
    }
   ],
   "source": [
    "# Riferimenti\n",
    "\n",
    "x = 7\n",
    "y = 10\n",
    "print(\"x=\", x, \"ref_x=\", id(x))\n",
    "print(\"y=\", y, \"ref_y=\", id(y))"
   ]
  },
  {
   "cell_type": "code",
   "execution_count": 2,
   "metadata": {},
   "outputs": [
    {
     "name": "stdout",
     "output_type": "stream",
     "text": [
      "Inside fun: x= 7 ref_x= 140706888698488\n",
      "Outside fun: x= 7 ref_x= 140706888698488\n"
     ]
    }
   ],
   "source": [
    "# Passaggio parametri\n",
    "\n",
    "def fun(x):\n",
    "    print(\"Inside fun: x=\", x, \"ref_x=\", id(x))\n",
    "    x = 7\n",
    "\n",
    "fun(x)\n",
    "print(\"Outside fun: x=\", x, \"ref_x=\", id(x))"
   ]
  },
  {
   "cell_type": "code",
   "execution_count": 3,
   "metadata": {},
   "outputs": [
    {
     "name": "stdout",
     "output_type": "stream",
     "text": [
      "Inside fun: val= [10, 20, 30, [1, 2, 3, 4]] ref= 2689332818816\n",
      "Outside fun: val= [10, 20, 30, [1, 2, 3, 4]] ref= 2689332818816\n",
      "\n",
      "Inside fun: val= [1, 2, 3, 4] ref= 2689332458048\n",
      "Outside fun: val= [10, 20, 30] ref= 2689332818752\n"
     ]
    }
   ],
   "source": [
    "# Passaggio parametri: oggetti mutabili\n",
    "\n",
    "def fun(mylist):\n",
    "    mylist.append([1,2,3,4])\n",
    "    print (\"Inside fun: val=\", mylist, \"ref=\", id(mylist))\n",
    "\n",
    "mylist = [10,20,30]\n",
    "fun( mylist )\n",
    "print (\"Outside fun: val=\", mylist, \"ref=\", id(mylist))\n",
    "\n",
    "print()\n",
    "\n",
    "def fun2(mylist):\n",
    "    mylist = [1,2,3,4]\n",
    "    print (\"Inside fun: val=\", mylist, \"ref=\", id(mylist))\n",
    "\n",
    "mylist = [10,20,30]\n",
    "fun2( mylist )\n",
    "print (\"Outside fun: val=\", mylist, \"ref=\", id(mylist))"
   ]
  },
  {
   "cell_type": "code",
   "execution_count": 4,
   "metadata": {},
   "outputs": [
    {
     "name": "stdout",
     "output_type": "stream",
     "text": [
      "Inside fun before: val= 3 ref= 140706888698360\n",
      "Inside fun after: val= 9 ref= 140706888698552\n",
      "Outside fun: val= 3 ref= 140706888698360\n"
     ]
    }
   ],
   "source": [
    "# Passaggio parametri: oggetti immutabili\n",
    "\n",
    "def fun(x):\n",
    "    print (\"Inside fun before: val=\", x, \"ref=\", id(x))\n",
    "    x**=2\n",
    "    print (\"Inside fun after: val=\", x, \"ref=\", id(x))\n",
    "    \n",
    "x = 3\n",
    "fun( x )\n",
    "print (\"Outside fun: val=\", x, \"ref=\", id(x))"
   ]
  },
  {
   "cell_type": "code",
   "execution_count": 5,
   "metadata": {},
   "outputs": [
    {
     "name": "stdout",
     "output_type": "stream",
     "text": [
      "first\n",
      "second\n",
      "third\n",
      "\n",
      "100\n",
      "first\n",
      "second\n",
      "third\n"
     ]
    }
   ],
   "source": [
    "# Variable-length arguments (*args)\n",
    "\n",
    "def fun(*args):\n",
    "    for arg in args:\n",
    "        print(arg)\n",
    "        \n",
    "fun(\"first\", \"second\", \"third\")\n",
    "\n",
    "print()\n",
    "\n",
    "def fun2(x, *args):\n",
    "    print(x)\n",
    "    for arg in args:\n",
    "        print(arg)\n",
    "        \n",
    "fun2(100, \"first\", \"second\", \"third\")"
   ]
  },
  {
   "cell_type": "code",
   "execution_count": 6,
   "metadata": {},
   "outputs": [
    {
     "name": "stdout",
     "output_type": "stream",
     "text": [
      "Mario Rossi Italy\n"
     ]
    }
   ],
   "source": [
    "# Keyword arguments\n",
    "\n",
    "def fun(name, surname, country):\n",
    "    print(name, surname, country)\n",
    "    \n",
    "fun(surname=\"Rossi\", country=\"Italy\", name=\"Mario\") "
   ]
  },
  {
   "cell_type": "code",
   "execution_count": 7,
   "metadata": {},
   "outputs": [
    {
     "name": "stdout",
     "output_type": "stream",
     "text": [
      "day = 8\n",
      "month = March\n",
      "year = 2024\n",
      "\n",
      "Date:\n",
      "day = 8\n",
      "month = March\n",
      "year = 2024\n"
     ]
    }
   ],
   "source": [
    "# **kwargs\n",
    "\n",
    "def fun(**kwargs):\n",
    "    for key, value in kwargs.items():\n",
    "        print(key, \"=\", value)\n",
    "        \n",
    "fun(day=8, month=\"March\", year=2024) \n",
    "\n",
    "print()\n",
    "\n",
    "def fun2(x, **kwargs):\n",
    "    print(x)\n",
    "    for key, value in kwargs.items():\n",
    "        print(key, \"=\", value)\n",
    "        \n",
    "fun2(\"Date:\", day=8, month=\"March\", year=2024)"
   ]
  },
  {
   "cell_type": "code",
   "execution_count": 9,
   "metadata": {},
   "outputs": [
    {
     "name": "stdout",
     "output_type": "stream",
     "text": [
      "admin admin 120\n",
      "user password 30\n",
      "operator changeme 30\n",
      "\n",
      "admin 120 admin@email.com admin\n",
      "admin 120 admin@email.com admin\n",
      "nome gigi\n",
      "cognome ldesi\n"
     ]
    }
   ],
   "source": [
    "# Default arguments\n",
    "\n",
    "def fun(username, password=\"changeme\", days=30):\n",
    "    print(username, password, days)\n",
    "    \n",
    "fun(\"admin\", \"admin\", 120)\n",
    "fun(\"user\", \"password\")\n",
    "fun(\"operator\")\n",
    "\n",
    "print()\n",
    "\n",
    "# Generate an error due to non-default argument following a default argument\n",
    "#def fun2(username, password=\"changeme\", days=30, email):\n",
    "#    print(username, password, days, email)\n",
    "\n",
    "def fun3(username, email, password=\"changeme\", days=30):\n",
    "    print(username, password, days, email)\n",
    "    \n",
    "fun3(\"admin\", \"admin\", 120, \"admin@email.com\")\n",
    "\n",
    "#Esempio fatto in classe\n",
    "\n",
    "#Questa è la sintassi corretta\n",
    "\n",
    "def fun4(username, email, password=\"changeme\", days=30, **kwargs):\n",
    "    print(username, password, days, email)\n",
    "    for key, value in kwargs.items():\n",
    "        print(key,value)\n",
    "\n",
    "fun4(\"admin\", \"admin\", 120, \"admin@email.com\", nome=\"gigi\", cognome=\"ldesi\")\n",
    "\n",
    "#Questa è la sintassi sbagliata\n",
    "\n",
    "#def fun4(**kwargs, username, email, password=\"changeme\", days=30):\n",
    "#    print(username, password, days, email)\n",
    "#    for key, value in kwargs.items():\n",
    "#        print(key,value)\n",
    "\n",
    "#fun4(\"admin\", \"admin\", 120, \"admin@email.com\", nome=\"gigi\", cognome=\"ldesi\")\n",
    "\n"
   ]
  },
  {
   "cell_type": "code",
   "execution_count": 8,
   "metadata": {},
   "outputs": [
    {
     "name": "stdout",
     "output_type": "stream",
     "text": [
      "[3, 4, 5]\n",
      "[3, 4, 5]\n"
     ]
    }
   ],
   "source": [
    "print(list(range(3, 6)))   #normal call with separate arguments\n",
    "\n",
    "args = [3, 6]\n",
    "print(list(range(*args)))  #call with arguments unpacked from a list\n"
   ]
  }
 ],
 "metadata": {
  "kernelspec": {
   "display_name": "Python 3",
   "language": "python",
   "name": "python3"
  },
  "language_info": {
   "codemirror_mode": {
    "name": "ipython",
    "version": 3
   },
   "file_extension": ".py",
   "mimetype": "text/x-python",
   "name": "python",
   "nbconvert_exporter": "python",
   "pygments_lexer": "ipython3",
   "version": "3.12.2"
  }
 },
 "nbformat": 4,
 "nbformat_minor": 2
}
